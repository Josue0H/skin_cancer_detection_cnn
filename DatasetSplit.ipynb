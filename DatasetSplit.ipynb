{
  "nbformat": 4,
  "nbformat_minor": 0,
  "metadata": {
    "colab": {
      "provenance": [],
      "machine_shape": "hm",
      "gpuType": "V100"
    },
    "kernelspec": {
      "name": "python3",
      "display_name": "Python 3"
    },
    "language_info": {
      "name": "python"
    },
    "accelerator": "GPU"
  },
  "cells": [
    {
      "cell_type": "code",
      "execution_count": null,
      "metadata": {
        "id": "wqLxH84U3aqi"
      },
      "outputs": [],
      "source": [
        "import os\n",
        "import random\n",
        "import shutil\n",
        "import imgaug.augmenters as iaa\n",
        "import cv2\n",
        "from imgaug.augmentables.batches import UnnormalizedBatch"
      ]
    },
    {
      "cell_type": "code",
      "source": [
        "from google.colab import drive\n",
        "drive.mount('/content/drive')"
      ],
      "metadata": {
        "id": "SXU04rRR3jkT",
        "colab": {
          "base_uri": "https://localhost:8080/"
        },
        "outputId": "0c91db30-074c-40e8-fc36-0e0969bb13f4"
      },
      "execution_count": null,
      "outputs": [
        {
          "output_type": "stream",
          "name": "stdout",
          "text": [
            "Mounted at /content/drive\n"
          ]
        }
      ]
    },
    {
      "cell_type": "code",
      "source": [
        "os.chdir('/content/drive/MyDrive/deep_learning')"
      ],
      "metadata": {
        "id": "IfCxq0qk3lNC"
      },
      "execution_count": null,
      "outputs": []
    },
    {
      "cell_type": "code",
      "source": [
        "train_folder = os.path.join(\"\", \"train\")\n",
        "val_folder = os.path.join(\"\", \"val\")\n",
        "test_folder = os.path.join(\"\", \"test\")\n",
        "os.makedirs(train_folder, exist_ok=True)\n",
        "os.makedirs(val_folder, exist_ok=True)\n",
        "os.makedirs(test_folder, exist_ok=True)"
      ],
      "metadata": {
        "id": "kdfywsRU3mln"
      },
      "execution_count": null,
      "outputs": []
    },
    {
      "cell_type": "code",
      "source": [
        "seq = iaa.Sequential([\n",
        "    iaa.Affine(rotate=(-90, 90)),  # Rotación aleatoria entre -20 y 20 grados\n",
        "    iaa.Fliplr(0.5),  # Volteo horizontal aleatorio (50% de probabilidad)\n",
        "    # iaa.GaussianBlur(sigma=(0, 0.1)),  # Desenfoque gaussiano con sigma aleatorio entre 0 y 1.0\n",
        "    # iaa.AdditiveGaussianNoise(scale=(0, 0.05 * 255)),  # Ruido gaussiano con escala aleatoria\n",
        "    iaa.Multiply((0.6, 1.2))  # Multiplicación de brillo aleatoria\n",
        "])"
      ],
      "metadata": {
        "id": "mDixCkg6hpkj"
      },
      "execution_count": null,
      "outputs": []
    },
    {
      "cell_type": "code",
      "source": [
        "melanoma_folder = os.path.join(\"\", \"melanoma-augmented\")\n",
        "file_list = os.listdir(melanoma_folder)\n",
        "print(len(file_list))"
      ],
      "metadata": {
        "colab": {
          "base_uri": "https://localhost:8080/"
        },
        "id": "_3Sw7wiyhxJv",
        "outputId": "a7935a79-fd4f-4fb3-ac9a-f5a19ad8066c"
      },
      "execution_count": null,
      "outputs": [
        {
          "output_type": "stream",
          "name": "stdout",
          "text": [
            "6678\n"
          ]
        }
      ]
    },
    {
      "cell_type": "code",
      "source": [
        "for filename in file_list:\n",
        "    # Comprobar si el archivo contiene \"augmented\" en su nombre\n",
        "    if \"augmented\" in filename:\n",
        "        print('removed')\n",
        "        # Construir la ruta completa del archivo\n",
        "        file_path = os.path.join(melanoma_folder, filename)\n",
        "        \n",
        "        # Eliminar el archivo\n",
        "        os.remove(file_path)"
      ],
      "metadata": {
        "id": "jWwgg-iJk_8D"
      },
      "execution_count": null,
      "outputs": []
    },
    {
      "cell_type": "code",
      "source": [
        "image_path = os.path.join(melanoma_folder, file_list[0])\n",
        "image = cv2.imread(image_path)\n",
        "print(file_list[0])\n",
        "\n",
        "# Generar imágenes aumentadas\n",
        "for i in range(5):\n",
        "  # Aplicar las transformaciones de data augmentation\n",
        "  augmented_image = seq.augment_image(image)\n",
        "  \n",
        "  # Construir el nombre de archivo de salida\n",
        "  output_filename = f\"{file_list[0].split('.')[0]}_augmented_{i}.{file_list[0].split('.')[-1]}\"\n",
        "  print(output_filename)\n",
        "  output_path = os.path.join(melanoma_folder, output_filename)\n",
        "  \n",
        "  # Guardar la imagen aumentada en la carpeta de salida\n",
        "  cv2.imwrite(output_path, augmented_image)"
      ],
      "metadata": {
        "id": "3sjOGxZCjT8i",
        "colab": {
          "base_uri": "https://localhost:8080/"
        },
        "outputId": "6dcae463-1dc5-4c5f-dfbc-0d24958cb0d6"
      },
      "execution_count": null,
      "outputs": [
        {
          "output_type": "stream",
          "name": "stdout",
          "text": [
            "ISIC_0025235.jpg\n",
            "ISIC_0025235_augmented_0.jpg\n",
            "ISIC_0025235_augmented_1.jpg\n",
            "ISIC_0025235_augmented_2.jpg\n",
            "ISIC_0025235_augmented_3.jpg\n",
            "ISIC_0025235_augmented_4.jpg\n"
          ]
        }
      ]
    },
    {
      "cell_type": "code",
      "source": [
        "for filename in file_list:\n",
        "    # Comprobar si el archivo es una imagen (por extensión)\n",
        "    if filename.endswith(('.jpg', '.jpeg', '.png')):\n",
        "        # Cargar la imagen original\n",
        "        image_path = os.path.join(melanoma_folder, filename)\n",
        "        image = cv2.imread(image_path)\n",
        "        \n",
        "        # Aplicar data augmentation a la imagen original\n",
        "        for i in range(3):\n",
        "          # Aplicar las transformaciones de data augmentation\n",
        "          augmented_image = seq.augment_image(image)\n",
        "          \n",
        "          # Construir el nombre de archivo de salida\n",
        "          output_filename = f\"{filename.split('.')[0]}_augmented_{i}.{filename.split('.')[-1]}\"\n",
        "          output_path = os.path.join(melanoma_folder, output_filename)\n",
        "          \n",
        "          # Guardar la imagen aumentada en la carpeta de salida\n",
        "          cv2.imwrite(output_path, augmented_image)"
      ],
      "metadata": {
        "id": "SXFxWcQph5G7"
      },
      "execution_count": null,
      "outputs": []
    },
    {
      "cell_type": "code",
      "source": [
        "melanoma_folder = os.path.join(\"\", \"melanoma\")\n",
        "melanoma_images = [f for f in os.listdir(melanoma_folder) if os.path.isfile(os.path.join(melanoma_folder, f))]"
      ],
      "metadata": {
        "id": "8RjOFhvU3n9m"
      },
      "execution_count": null,
      "outputs": []
    },
    {
      "cell_type": "code",
      "source": [
        "print(len(melanoma_images))"
      ],
      "metadata": {
        "colab": {
          "base_uri": "https://localhost:8080/"
        },
        "id": "ZErcBBngnKWG",
        "outputId": "ef1bf834-dd8d-49c6-ec57-7c46eb78a724"
      },
      "execution_count": null,
      "outputs": [
        {
          "output_type": "stream",
          "name": "stdout",
          "text": [
            "1113\n"
          ]
        }
      ]
    },
    {
      "cell_type": "code",
      "source": [
        "non_melanoma_folder = os.path.join(\"\", \"reduced-non-melanoma\")\n",
        "non_melanoma_images = [f for f in os.listdir(non_melanoma_folder) if os.path.isfile(os.path.join(non_melanoma_folder, f))]"
      ],
      "metadata": {
        "id": "pIdd7Ef83pWF"
      },
      "execution_count": null,
      "outputs": []
    },
    {
      "cell_type": "code",
      "source": [
        "print(len(non_melanoma_images))"
      ],
      "metadata": {
        "colab": {
          "base_uri": "https://localhost:8080/"
        },
        "id": "NPhtlS-TLkSy",
        "outputId": "2afbbee3-779c-4390-fc0a-cc84414e6a12"
      },
      "execution_count": null,
      "outputs": [
        {
          "output_type": "stream",
          "name": "stdout",
          "text": [
            "1272\n"
          ]
        }
      ]
    },
    {
      "cell_type": "code",
      "source": [
        "train_ratio = 0.7\n",
        "val_ratio = 0.15\n",
        "test_ratio = 0.15"
      ],
      "metadata": {
        "id": "praWGGwK3qur"
      },
      "execution_count": null,
      "outputs": []
    },
    {
      "cell_type": "code",
      "source": [
        "num_melanoma = len(melanoma_images)\n",
        "num_non_melanoma = len(non_melanoma_images)\n",
        "num_train_melanoma = int(num_melanoma * train_ratio)\n",
        "num_train_non_melanoma = int(num_non_melanoma * train_ratio)\n",
        "num_val_melanoma = int(num_melanoma * val_ratio)\n",
        "num_val_non_melanoma = int(num_non_melanoma * val_ratio)\n",
        "num_test_melanoma = num_melanoma - num_train_melanoma - num_val_melanoma\n",
        "num_test_non_melanoma = num_non_melanoma - num_train_non_melanoma - num_val_non_melanoma"
      ],
      "metadata": {
        "id": "JTRat4rZ3sJm"
      },
      "execution_count": null,
      "outputs": []
    },
    {
      "cell_type": "code",
      "source": [
        "random.shuffle(melanoma_images)\n",
        "train_melanoma = melanoma_images[:num_train_melanoma]\n",
        "val_melanoma = melanoma_images[num_train_melanoma:num_train_melanoma+num_val_melanoma]\n",
        "test_melanoma = melanoma_images[num_train_melanoma+num_val_melanoma:]"
      ],
      "metadata": {
        "id": "vSxP5V293t5l"
      },
      "execution_count": null,
      "outputs": []
    },
    {
      "cell_type": "code",
      "source": [
        "random.shuffle(non_melanoma_images)\n",
        "train_non_melanoma = non_melanoma_images[:num_train_non_melanoma]\n",
        "val_non_melanoma = non_melanoma_images[num_train_non_melanoma:num_train_non_melanoma+num_val_non_melanoma]\n",
        "test_non_melanoma = non_melanoma_images[num_train_non_melanoma+num_val_non_melanoma:]"
      ],
      "metadata": {
        "id": "sS7gWRDb3vd-"
      },
      "execution_count": null,
      "outputs": []
    },
    {
      "cell_type": "code",
      "source": [
        "for image in train_melanoma:\n",
        "    src = os.path.join(melanoma_folder, image)\n",
        "    dst = os.path.join(train_folder, \"melanoma\", image)\n",
        "    shutil.copy(src, dst)\n",
        "\n",
        "for image in train_non_melanoma:\n",
        "    src = os.path.join(non_melanoma_folder, image)\n",
        "    dst = os.path.join(train_folder, \"non-melanoma\", image)\n",
        "    shutil.copy(src, dst)\n",
        "\n",
        "for image in val_melanoma:\n",
        "    src = os.path.join(melanoma_folder, image)\n",
        "    dst = os.path.join(val_folder, \"melanoma\", image)\n",
        "    shutil.copy(src, dst)\n",
        "\n",
        "for image in val_non_melanoma:\n",
        "    src = os.path.join(non_melanoma_folder, image)\n",
        "    dst = os.path.join(val_folder, \"non-melanoma\", image)\n",
        "    shutil.copy(src, dst)\n",
        "\n",
        "for image in test_melanoma:\n",
        "    src = os.path.join(melanoma_folder, image)\n",
        "    dst = os.path.join(test_folder, \"melanoma\", image)\n",
        "    shutil.copy(src, dst)\n",
        "\n",
        "for image in test_non_melanoma:\n",
        "    src = os.path.join(non_melanoma_folder, image)\n",
        "    dst = os.path.join(test_folder, \"non-melanoma\", image)\n",
        "    shutil.copy(src, dst)"
      ],
      "metadata": {
        "id": "iN8c6Lku3xmI"
      },
      "execution_count": null,
      "outputs": []
    }
  ]
}