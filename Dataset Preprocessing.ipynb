{
 "cells": [
  {
   "cell_type": "code",
   "execution_count": 1,
   "metadata": {},
   "outputs": [],
   "source": [
    "import numpy as np\n",
    "import pandas as pd\n",
    "import cv2\n",
    "import os\n",
    "import shutil "
   ]
  },
  {
   "cell_type": "code",
   "execution_count": 6,
   "metadata": {},
   "outputs": [],
   "source": [
    "directory = \"C:/Users/josue/Documents/dataset\""
   ]
  },
  {
   "cell_type": "code",
   "execution_count": 12,
   "metadata": {},
   "outputs": [
    {
     "data": {
      "text/plain": [
       "10015"
      ]
     },
     "execution_count": 12,
     "metadata": {},
     "output_type": "execute_result"
    }
   ],
   "source": [
    "entries = os.listdir(directory + \"/SkinCancer\")\n",
    "len(entries)"
   ]
  },
  {
   "cell_type": "code",
   "execution_count": 13,
   "metadata": {},
   "outputs": [],
   "source": [
    "df = pd.read_csv(directory + \"/HAM10000_metadata.csv\")\n",
    "melanoma_images = df[df['dx'] == 'mel']\n",
    "non_melanoma_images = df[df['dx'] != 'mel']\n",
    "\n",
    "melanoma_images_arr = np.array(melanoma_images['image_id'])\n",
    "non_melanoma_images_arr = np.array(non_melanoma_images['image_id'])"
   ]
  },
  {
   "cell_type": "code",
   "execution_count": 14,
   "metadata": {},
   "outputs": [],
   "source": [
    "for image_id in melanoma_images_arr:\n",
    "    src = directory + \"/SkinCancer/\" + image_id + \".jpg\";\n",
    "    dest = directory + \"/melanoma/\" + image_id + \".jpg\";\n",
    "    shutil.copy(src, dest)"
   ]
  },
  {
   "cell_type": "code",
   "execution_count": 15,
   "metadata": {},
   "outputs": [],
   "source": [
    "for image_id in non_melanoma_images_arr:\n",
    "    src = directory + \"/SkinCancer/\" + image_id + \".jpg\";\n",
    "    dest = directory + \"/non-melanoma/\" + image_id + \".jpg\";\n",
    "    shutil.copy(src, dest)"
   ]
  },
  {
   "cell_type": "code",
   "execution_count": 16,
   "metadata": {},
   "outputs": [],
   "source": [
    "entries = os.listdir(directory + \"/melanoma\")\n",
    "\n",
    "\n",
    "for entry in entries:\n",
    "    image = cv2.imread(directory + \"/melanoma/\" + entry)\n",
    "    resized = cv2.resize(image, (200, 200), interpolation=cv2.INTER_AREA)\n",
    "    cv2.imwrite(directory + \"/melanoma/\" + entry, resized)"
   ]
  },
  {
   "cell_type": "code",
   "execution_count": 17,
   "metadata": {},
   "outputs": [],
   "source": [
    "entries = os.listdir(directory + \"/non-melanoma\")\n",
    "\n",
    "\n",
    "for entry in entries:\n",
    "    image = cv2.imread(directory + \"/non-melanoma/\" + entry)\n",
    "    resized = cv2.resize(image, (200, 200), interpolation=cv2.INTER_AREA)\n",
    "    cv2.imwrite(directory + \"/non-melanoma/\" + entry, resized) "
   ]
  }
 ],
 "metadata": {
  "kernelspec": {
   "display_name": "Python 3 (ipykernel)",
   "language": "python",
   "name": "python3"
  },
  "language_info": {
   "codemirror_mode": {
    "name": "ipython",
    "version": 3
   },
   "file_extension": ".py",
   "mimetype": "text/x-python",
   "name": "python",
   "nbconvert_exporter": "python",
   "pygments_lexer": "ipython3",
   "version": "3.10.9"
  }
 },
 "nbformat": 4,
 "nbformat_minor": 4
}
